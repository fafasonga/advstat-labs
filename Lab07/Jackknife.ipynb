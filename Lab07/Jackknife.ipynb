{
 "cells": [
  {
   "cell_type": "code",
   "execution_count": 88,
   "metadata": {
    "collapsed": true
   },
   "outputs": [],
   "source": [
    "import numpy as np\n",
    "import scipy.stats.stats as st\n",
    "from astropy.stats import jackknife_resampling\n",
    "from astropy.stats import jackknife_stats\n",
    "import matplotlib.pyplot as plt\n",
    "import plotly.plotly as py\n",
    "from scipy.stats import norm\n",
    "from scipy.stats import lognorm"
   ]
  },
  {
   "cell_type": "code",
   "execution_count": 76,
   "metadata": {
    "collapsed": true
   },
   "outputs": [],
   "source": [
    "n = 100"
   ]
  },
  {
   "cell_type": "code",
   "execution_count": 77,
   "metadata": {},
   "outputs": [
    {
     "name": "stdout",
     "output_type": "stream",
     "text": [
      "[ 0.19674408  0.5265011   0.10872798  0.30253675  0.0680024   0.66012012\n",
      "  0.13581098  0.44438482  0.8652004   0.41821629  0.20230251  0.28087654\n",
      "  0.91559574  0.21544415  0.32987448  0.73884325  0.52082177  0.06974487\n",
      "  0.32577455  0.03338356  0.75821065  0.53354322  0.06639091  0.14288146\n",
      "  0.69088479  0.6818912   0.10688051  0.05767983  0.88711746  0.16070533\n",
      "  0.11920241  0.42261599  0.03814796  0.42796316  0.4025807   0.98878496\n",
      "  0.79834213  0.90432255  0.50366493  0.97567006  0.80901577  0.02628437\n",
      "  0.83102933  0.63985186  0.66194111  0.04532149  0.43868256  0.23722229\n",
      "  0.02111533  0.61984461  0.54170708  0.54001974  0.5513217   0.17645073\n",
      "  0.8994159   0.06264102  0.03927723  0.91812488  0.99842306  0.0952035\n",
      "  0.83059092  0.78022016  0.26494083  0.8957572   0.47259696  0.23632427\n",
      "  0.81101014  0.37422659  0.50070364  0.29871432  0.31991597  0.40693726\n",
      "  0.75340734  0.51382668  0.23307102  0.0027264   0.48874002  0.32319061\n",
      "  0.96435069  0.92138156  0.88916292  0.22918086  0.63197969  0.23580114\n",
      "  0.94659824  0.63322329  0.55904458  0.86243192  0.16571389  0.50000187\n",
      "  0.98408482  0.27755338  0.59908998  0.51227768  0.13782986  0.67575763\n",
      "  0.09064443  0.61188455  0.87821202  0.68363919]\n"
     ]
    }
   ],
   "source": [
    "data = np.random.random(n)\n",
    "print data"
   ]
  },
  {
   "cell_type": "code",
   "execution_count": 78,
   "metadata": {},
   "outputs": [
    {
     "data": {
      "text/plain": [
       "(array([ 14.,  10.,  11.,   6.,  10.,  12.,  11.,   5.,  10.,  11.]),\n",
       " array([ 0.0027264 ,  0.10229607,  0.20186573,  0.3014354 ,  0.40100507,\n",
       "         0.50057473,  0.6001444 ,  0.69971406,  0.79928373,  0.8988534 ,\n",
       "         0.99842306]),\n",
       " <a list of 10 Patch objects>)"
      ]
     },
     "execution_count": 78,
     "metadata": {},
     "output_type": "execute_result"
    }
   ],
   "source": [
    "plt.hist(data)"
   ]
  },
  {
   "cell_type": "code",
   "execution_count": 79,
   "metadata": {},
   "outputs": [
    {
     "name": "stdout",
     "output_type": "stream",
     "text": [
      "0.47676024637\n"
     ]
    }
   ],
   "source": [
    "meann = np.mean(data)\n",
    "print meann"
   ]
  },
  {
   "cell_type": "code",
   "execution_count": 80,
   "metadata": {},
   "outputs": [
    {
     "name": "stdout",
     "output_type": "stream",
     "text": [
      "0.103587876677\n"
     ]
    }
   ],
   "source": [
    "sa = st.skew(data)\n",
    "print sa"
   ]
  },
  {
   "cell_type": "code",
   "execution_count": 94,
   "metadata": {},
   "outputs": [
    {
     "ename": "AttributeError",
     "evalue": "'module' object has no attribute 'norm'",
     "output_type": "error",
     "traceback": [
      "\u001b[0;31m---------------------------------------------------------------------------\u001b[0m",
      "\u001b[0;31mAttributeError\u001b[0m                            Traceback (most recent call last)",
      "\u001b[0;32m<ipython-input-94-7e5e3ca38232>\u001b[0m in \u001b[0;36m<module>\u001b[0;34m()\u001b[0m\n\u001b[0;32m----> 1\u001b[0;31m \u001b[0mnorm_data\u001b[0m \u001b[0;34m=\u001b[0m \u001b[0mst\u001b[0m\u001b[0;34m.\u001b[0m\u001b[0mnorm\u001b[0m\u001b[0;34m(\u001b[0m\u001b[0mdata\u001b[0m\u001b[0;34m)\u001b[0m\u001b[0;34m\u001b[0m\u001b[0m\n\u001b[0m\u001b[1;32m      2\u001b[0m \u001b[0mmean\u001b[0m\u001b[0;34m,\u001b[0m \u001b[0mvar\u001b[0m\u001b[0;34m,\u001b[0m \u001b[0mskew\u001b[0m\u001b[0;34m,\u001b[0m \u001b[0mkurt\u001b[0m \u001b[0;34m=\u001b[0m \u001b[0mnorm\u001b[0m\u001b[0;34m.\u001b[0m\u001b[0mstats\u001b[0m\u001b[0;34m(\u001b[0m\u001b[0mmoments\u001b[0m\u001b[0;34m=\u001b[0m\u001b[0;34m'mvsk'\u001b[0m\u001b[0;34m)\u001b[0m\u001b[0;34m\u001b[0m\u001b[0m\n\u001b[1;32m      3\u001b[0m \u001b[0mmedian\u001b[0m \u001b[0;34m=\u001b[0m \u001b[0mnorm\u001b[0m\u001b[0;34m.\u001b[0m\u001b[0mppf\u001b[0m\u001b[0;34m(\u001b[0m\u001b[0;34m[\u001b[0m\u001b[0;36m0.001\u001b[0m\u001b[0;34m,\u001b[0m \u001b[0;36m0.5\u001b[0m\u001b[0;34m,\u001b[0m \u001b[0;36m0.999\u001b[0m\u001b[0;34m]\u001b[0m\u001b[0;34m)\u001b[0m\u001b[0;34m\u001b[0m\u001b[0m\n",
      "\u001b[0;31mAttributeError\u001b[0m: 'module' object has no attribute 'norm'"
     ]
    }
   ],
   "source": [
    "norm_data = st.norm(data)\n",
    "mean, var, skew, kurt = norm.stats(moments='mvsk')\n",
    "median = norm.ppf([0.001, 0.5, 0.999])"
   ]
  },
  {
   "cell_type": "code",
   "execution_count": 85,
   "metadata": {},
   "outputs": [
    {
     "ename": "AttributeError",
     "evalue": "'module' object has no attribute 'lognorm'",
     "output_type": "error",
     "traceback": [
      "\u001b[0;31m---------------------------------------------------------------------------\u001b[0m",
      "\u001b[0;31mAttributeError\u001b[0m                            Traceback (most recent call last)",
      "\u001b[0;32m<ipython-input-85-0abba8feed32>\u001b[0m in \u001b[0;36m<module>\u001b[0;34m()\u001b[0m\n\u001b[0;32m----> 1\u001b[0;31m \u001b[0mlog_norm\u001b[0m \u001b[0;34m=\u001b[0m \u001b[0mst\u001b[0m\u001b[0;34m.\u001b[0m\u001b[0mlognorm\u001b[0m\u001b[0;34m(\u001b[0m\u001b[0;36m1\u001b[0m\u001b[0;34m,\u001b[0m\u001b[0;36m0\u001b[0m\u001b[0;34m)\u001b[0m\u001b[0;34m\u001b[0m\u001b[0m\n\u001b[0m\u001b[1;32m      2\u001b[0m \u001b[0mmean\u001b[0m\u001b[0;34m,\u001b[0m \u001b[0mvar\u001b[0m\u001b[0;34m,\u001b[0m \u001b[0mskew\u001b[0m\u001b[0;34m,\u001b[0m \u001b[0mkurt\u001b[0m \u001b[0;34m=\u001b[0m \u001b[0mlognorm\u001b[0m\u001b[0;34m.\u001b[0m\u001b[0mstats\u001b[0m\u001b[0;34m(\u001b[0m\u001b[0mmoments\u001b[0m\u001b[0;34m=\u001b[0m\u001b[0;34m'mvsk'\u001b[0m\u001b[0;34m)\u001b[0m\u001b[0;34m\u001b[0m\u001b[0m\n\u001b[1;32m      3\u001b[0m \u001b[0mmedian\u001b[0m \u001b[0;34m=\u001b[0m \u001b[0mlog_norm\u001b[0m\u001b[0;34m.\u001b[0m\u001b[0mppf\u001b[0m\u001b[0;34m(\u001b[0m\u001b[0;36m0\u001b[0m\u001b[0;34m,\u001b[0m\u001b[0;36m5\u001b[0m\u001b[0;34m)\u001b[0m\u001b[0;34m\u001b[0m\u001b[0m\n\u001b[1;32m      4\u001b[0m \u001b[0mlognorm_data\u001b[0m \u001b[0;34m=\u001b[0m \u001b[0mlog_norm\u001b[0m\u001b[0;34m.\u001b[0m\u001b[0mrvs\u001b[0m\u001b[0;34m(\u001b[0m\u001b[0mn\u001b[0m\u001b[0;34m)\u001b[0m\u001b[0;34m\u001b[0m\u001b[0m\n\u001b[1;32m      5\u001b[0m \u001b[0mplt\u001b[0m\u001b[0;34m.\u001b[0m\u001b[0mhist\u001b[0m\u001b[0;34m(\u001b[0m\u001b[0mlognorm_data\u001b[0m\u001b[0;34m,\u001b[0m\u001b[0mbins\u001b[0m\u001b[0;34m=\u001b[0m\u001b[0;36m15\u001b[0m\u001b[0;34m)\u001b[0m\u001b[0;34m\u001b[0m\u001b[0m\n",
      "\u001b[0;31mAttributeError\u001b[0m: 'module' object has no attribute 'lognorm'"
     ]
    }
   ],
   "source": [
    "log_norm = st.lognorm(1,0)\n",
    "mean, var, skew, kurt = lognorm.stats(moments='mvsk')\n",
    "median = log_norm.ppf(0,5)\n",
    "lognorm_data = log_norm.rvs(n)\n",
    "plt.hist(lognorm_data,bins=15)"
   ]
  },
  {
   "cell_type": "code",
   "execution_count": 64,
   "metadata": {},
   "outputs": [
    {
     "name": "stdout",
     "output_type": "stream",
     "text": [
      "0.479093392659\n"
     ]
    }
   ],
   "source": [
    "me = np.median(data)\n",
    "print me"
   ]
  },
  {
   "cell_type": "code",
   "execution_count": 7,
   "metadata": {},
   "outputs": [
    {
     "data": {
      "text/plain": [
       "array([[ 0.44920006,  0.37271716,  0.61447907, ...,  0.12700564,\n",
       "         0.21728054,  0.52173803],\n",
       "       [ 0.32583649,  0.37271716,  0.61447907, ...,  0.12700564,\n",
       "         0.21728054,  0.52173803],\n",
       "       [ 0.32583649,  0.44920006,  0.61447907, ...,  0.12700564,\n",
       "         0.21728054,  0.52173803],\n",
       "       ..., \n",
       "       [ 0.32583649,  0.44920006,  0.37271716, ...,  0.34629008,\n",
       "         0.21728054,  0.52173803],\n",
       "       [ 0.32583649,  0.44920006,  0.37271716, ...,  0.34629008,\n",
       "         0.12700564,  0.52173803],\n",
       "       [ 0.32583649,  0.44920006,  0.37271716, ...,  0.34629008,\n",
       "         0.12700564,  0.21728054]])"
      ]
     },
     "execution_count": 7,
     "metadata": {},
     "output_type": "execute_result"
    }
   ],
   "source": [
    "resamples = jackknife_resampling(data)\n",
    "resamples"
   ]
  },
  {
   "cell_type": "code",
   "execution_count": 8,
   "metadata": {
    "collapsed": true
   },
   "outputs": [],
   "source": [
    "plt.hist(resamples, 25, histtype='step');"
   ]
  },
  {
   "cell_type": "code",
   "execution_count": 9,
   "metadata": {},
   "outputs": [
    {
     "data": {
      "text/plain": [
       "(100, 99)"
      ]
     },
     "execution_count": 9,
     "metadata": {},
     "output_type": "execute_result"
    }
   ],
   "source": [
    "resamples.shape"
   ]
  },
  {
   "cell_type": "code",
   "execution_count": 10,
   "metadata": {
    "collapsed": true
   },
   "outputs": [],
   "source": [
    "test_statistic = np.mean"
   ]
  },
  {
   "cell_type": "code",
   "execution_count": 11,
   "metadata": {},
   "outputs": [
    {
     "name": "stdout",
     "output_type": "stream",
     "text": [
      "0.481799956265\n"
     ]
    }
   ],
   "source": [
    "meannb = np.mean(resamples)\n",
    "print meannb"
   ]
  },
  {
   "cell_type": "code",
   "execution_count": 12,
   "metadata": {},
   "outputs": [
    {
     "name": "stdout",
     "output_type": "stream",
     "text": [
      "[  9.84937059e+00  -6.85714286e+00   5.51037759e+00  -4.69485534e+00\n",
      "   4.12948321e+00  -3.70546845e+00   3.37060575e+00  -3.09628108e+00\n",
      "   2.86531189e+00  -2.66666667e+00   2.49289081e+00  -2.33873833e+00\n",
      "  -2.20039382e+00   2.07500550e+00   1.96039212e+00  -1.85485207e+00\n",
      "  -1.75703506e+00   1.66585346e+00   1.58041950e+00  -1.50000000e+00\n",
      "  -1.42398299e+00   1.35185274e+00  -1.28317083e+00  -1.21756156e+00\n",
      "  -1.15470054e+00   1.09430581e+00   1.03613065e+00  -9.79957887e-01\n",
      "   9.25595250e-01   8.72871561e-01  -8.21633625e-01  -7.71743633e-01\n",
      "   7.23076997e-01  -6.75520529e-01   6.28970902e-01  -5.83333333e-01\n",
      "   5.38520464e-01  -4.94451386e-01   4.51050802e-01   4.08248290e-01\n",
      "  -3.65977656e-01   3.24176359e-01  -2.82785007e-01   2.41746889e-01\n",
      "  -2.01007563e-01  -1.60514471e-01   1.20216585e-01  -8.00640769e-02\n",
      "   4.00080024e-02   7.10980683e-14   4.00080024e-02  -8.00640769e-02\n",
      "  -1.20216585e-01  -1.60514471e-01   2.01007563e-01   2.41746889e-01\n",
      "  -2.82785007e-01  -3.24176359e-01   3.65977656e-01   4.08248290e-01\n",
      "  -4.51050802e-01   4.94451386e-01   5.38520464e-01  -5.83333333e-01\n",
      "  -6.28970902e-01   6.75520529e-01   7.23076997e-01  -7.71743633e-01\n",
      "   8.21633625e-01  -8.72871561e-01  -9.25595250e-01   9.79957887e-01\n",
      "  -1.03613065e+00   1.09430581e+00   1.15470054e+00  -1.21756156e+00\n",
      "  -1.28317083e+00  -1.35185274e+00   1.42398299e+00  -1.50000000e+00\n",
      "   1.58041950e+00  -1.66585346e+00  -1.75703506e+00   1.85485207e+00\n",
      "   1.96039212e+00  -2.07500550e+00   2.20039382e+00   2.33873833e+00\n",
      "  -2.49289081e+00  -2.66666667e+00   2.86531189e+00   3.09628108e+00\n",
      "   3.37060575e+00  -3.70546845e+00  -4.12948321e+00   4.69485534e+00\n",
      "   5.51037759e+00  -6.85714286e+00  -9.84937059e+00]\n"
     ]
    }
   ],
   "source": [
    "sb = scipy.stats.skew(resamples)\n",
    "print sb"
   ]
  },
  {
   "cell_type": "code",
   "execution_count": 13,
   "metadata": {
    "collapsed": true
   },
   "outputs": [],
   "source": [
    "estimate, bias, stderr, conf_interval = jackknife_stats(data, test_statistic, 0.95)"
   ]
  },
  {
   "cell_type": "code",
   "execution_count": 14,
   "metadata": {},
   "outputs": [
    {
     "data": {
      "text/plain": [
       "0.48179995626502442"
      ]
     },
     "execution_count": 14,
     "metadata": {},
     "output_type": "execute_result"
    }
   ],
   "source": [
    "estimate"
   ]
  },
  {
   "cell_type": "code",
   "execution_count": 15,
   "metadata": {},
   "outputs": [
    {
     "data": {
      "text/plain": [
       "1.099120794378905e-14"
      ]
     },
     "execution_count": 15,
     "metadata": {},
     "output_type": "execute_result"
    }
   ],
   "source": [
    "bias"
   ]
  },
  {
   "cell_type": "code",
   "execution_count": 16,
   "metadata": {},
   "outputs": [
    {
     "data": {
      "text/plain": [
       "0.025809392751893444"
      ]
     },
     "execution_count": 16,
     "metadata": {},
     "output_type": "execute_result"
    }
   ],
   "source": [
    "stderr"
   ]
  },
  {
   "cell_type": "code",
   "execution_count": 17,
   "metadata": {},
   "outputs": [
    {
     "data": {
      "text/plain": [
       "array([ 0.43121448,  0.53238544])"
      ]
     },
     "execution_count": 17,
     "metadata": {},
     "output_type": "execute_result"
    }
   ],
   "source": [
    "conf_interval"
   ]
  },
  {
   "cell_type": "code",
   "execution_count": 18,
   "metadata": {
    "collapsed": true
   },
   "outputs": [],
   "source": [
    "test_statistic = lambda x: (np.mean(x), np.var(x))"
   ]
  },
  {
   "cell_type": "code",
   "execution_count": 19,
   "metadata": {
    "collapsed": true
   },
   "outputs": [],
   "source": [
    "estimate, bias, stderr, conf_interval = jackknife_stats(data, test_statistic, 0.95)"
   ]
  },
  {
   "cell_type": "code",
   "execution_count": 20,
   "metadata": {},
   "outputs": [
    {
     "data": {
      "text/plain": [
       "array([ 0.48179996,  0.06661248])"
      ]
     },
     "execution_count": 20,
     "metadata": {},
     "output_type": "execute_result"
    }
   ],
   "source": [
    "estimate"
   ]
  },
  {
   "cell_type": "code",
   "execution_count": 21,
   "metadata": {},
   "outputs": [
    {
     "data": {
      "text/plain": [
       "array([  1.09912079e-14,  -6.66124754e-04])"
      ]
     },
     "execution_count": 21,
     "metadata": {},
     "output_type": "execute_result"
    }
   ],
   "source": [
    "bias"
   ]
  },
  {
   "cell_type": "code",
   "execution_count": 22,
   "metadata": {},
   "outputs": [
    {
     "data": {
      "text/plain": [
       "array([[ 0.43121448,  0.05333065],\n",
       "       [ 0.53238544,  0.0798943 ]])"
      ]
     },
     "execution_count": 22,
     "metadata": {},
     "output_type": "execute_result"
    }
   ],
   "source": [
    "conf_interval"
   ]
  },
  {
   "cell_type": "code",
   "execution_count": 32,
   "metadata": {
    "collapsed": true
   },
   "outputs": [],
   "source": [
    "def jackknife(data, func):\n",
    "    \"\"\"Jackknife estimate of the estimator func\"\"\"\n",
    "    n = len(data)\n",
    "    idx = np.arange(n)\n",
    "    return np.sum(func(data[idx!=i]) for i in range(n))/float(n)"
   ]
  },
  {
   "cell_type": "code",
   "execution_count": 33,
   "metadata": {
    "collapsed": true
   },
   "outputs": [],
   "source": [
    "def jackknife_var(data, func):\n",
    "    \"\"\"Jackknife estiamte of the variance of the estimator func.\"\"\"\n",
    "    n = len(data)\n",
    "    idx = np.arange(n)\n",
    "    j_est = jackknife(data, func)\n",
    "    return (n-1)/(n + 0.0) * np.sum((func(data[idx!=i]) - j_est)**2.0\n",
    "                                    for i in range(n))"
   ]
  },
  {
   "cell_type": "code",
   "execution_count": 34,
   "metadata": {},
   "outputs": [
    {
     "data": {
      "text/plain": [
       "0.00017517566107976549"
      ]
     },
     "execution_count": 34,
     "metadata": {},
     "output_type": "execute_result"
    }
   ],
   "source": [
    "# estimate of the variance of an estimator\n",
    "jackknife_var(data, np.std)"
   ]
  },
  {
   "cell_type": "code",
   "execution_count": 43,
   "metadata": {
    "collapsed": true
   },
   "outputs": [],
   "source": [
    "def calc_avg_leave_one_out_func(func, data):\n",
    "    means = []\n",
    "    for i in range(len(data)):\n",
    "        loo_data = np.hstack([data[:i],data[i+1:]])\n",
    "        res = func(loo_data)\n",
    "        means.append(res)\n",
    "        \n",
    "        means = np.array(means)\n",
    "        return means.mean(),means.var()"
   ]
  },
  {
   "cell_type": "code",
   "execution_count": 56,
   "metadata": {},
   "outputs": [
    {
     "data": {
      "text/plain": [
       "(0.48337534484125655, 0.0)"
      ]
     },
     "execution_count": 56,
     "metadata": {},
     "output_type": "execute_result"
    }
   ],
   "source": [
    "calc_avg_leave_one_out_func(np.mean,data)"
   ]
  },
  {
   "cell_type": "code",
   "execution_count": 45,
   "metadata": {},
   "outputs": [
    {
     "data": {
      "text/plain": [
       "(0.06636429050554038, 0.0)"
      ]
     },
     "execution_count": 45,
     "metadata": {},
     "output_type": "execute_result"
    }
   ],
   "source": [
    "calc_avg_leave_one_out_func(np.var, data)"
   ]
  },
  {
   "cell_type": "code",
   "execution_count": 89,
   "metadata": {},
   "outputs": [],
   "source": [
    "def calculate_bias(data, mean, skew, median):\n",
    "    jackknife_mean,mean_var = calc_avg_leave_one_out_func(np.mean, data)\n",
    "    just_mean = np.mean(data)\n",
    "    \n",
    "    jackknife_skew,skew_var = calc_avg_leave_one_out_func(st.skew, data)\n",
    "    just_skew = st.skew(data)\n",
    "    jackknife_median, median_var = calc_avg_leave_one_out_func(np.median, norm_data)\n",
    "    just_median = np.median(norm_data)\n",
    "    \n",
    "    print ('Just mean Error = {}'.format(abs(just_mean - mean)))\n",
    "    print ('Jackknife mean Error = {}'.format(abs(jackknife_mean - mean)))\n",
    "    print ('Jackknife mean Variance = {}'.format(abs(mean_var)))\n",
    "    \n",
    "    bias = (n-1)*(jackknife_mean - just_mean)\n",
    "    print ('Bias = {}\\n'.format(bias))"
   ]
  },
  {
   "cell_type": "code",
   "execution_count": 90,
   "metadata": {},
   "outputs": [
    {
     "ename": "NameError",
     "evalue": "name 'median' is not defined",
     "output_type": "error",
     "traceback": [
      "\u001b[0;31m---------------------------------------------------------------------------\u001b[0m",
      "\u001b[0;31mNameError\u001b[0m                                 Traceback (most recent call last)",
      "\u001b[0;32m<ipython-input-90-7103361ea7f5>\u001b[0m in \u001b[0;36m<module>\u001b[0;34m()\u001b[0m\n\u001b[0;32m----> 1\u001b[0;31m \u001b[0mcalculate_bias\u001b[0m\u001b[0;34m(\u001b[0m\u001b[0mdata\u001b[0m\u001b[0;34m,\u001b[0m \u001b[0mmean\u001b[0m\u001b[0;34m,\u001b[0m \u001b[0mskew\u001b[0m\u001b[0;34m,\u001b[0m \u001b[0mmedian\u001b[0m\u001b[0;34m)\u001b[0m\u001b[0;34m\u001b[0m\u001b[0m\n\u001b[0m",
      "\u001b[0;31mNameError\u001b[0m: name 'median' is not defined"
     ]
    }
   ],
   "source": [
    "calculate_bias(data, mean, skew, median)"
   ]
  },
  {
   "cell_type": "code",
   "execution_count": null,
   "metadata": {},
   "outputs": [],
   "source": []
  },
  {
   "cell_type": "code",
   "execution_count": null,
   "metadata": {
    "collapsed": true
   },
   "outputs": [],
   "source": []
  }
 ],
 "metadata": {
  "kernelspec": {
   "display_name": "Python 2",
   "language": "python",
   "name": "python2"
  },
  "language_info": {
   "codemirror_mode": {
    "name": "ipython",
    "version": 2
   },
   "file_extension": ".py",
   "mimetype": "text/x-python",
   "name": "python",
   "nbconvert_exporter": "python",
   "pygments_lexer": "ipython2",
   "version": "2.7.13"
  }
 },
 "nbformat": 4,
 "nbformat_minor": 2
}
