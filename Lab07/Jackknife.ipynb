{
 "cells": [
  {
   "cell_type": "markdown",
   "metadata": {},
   "source": [
    "# Jackknife"
   ]
  },
  {
   "cell_type": "code",
   "execution_count": 74,
   "metadata": {
    "collapsed": true
   },
   "outputs": [],
   "source": [
    "import numpy as np\n",
    "import scipy.stats.stats as st\n",
    "from astropy.stats import jackknife_resampling\n",
    "from astropy.stats import jackknife_stats\n",
    "import matplotlib.pyplot as plt\n",
    "import scipy.stats as st\n",
    "import plotly.plotly as py\n",
    "from scipy.stats import norm\n",
    "from scipy.stats import lognorm"
   ]
  },
  {
   "cell_type": "code",
   "execution_count": 73,
   "metadata": {
    "collapsed": true
   },
   "outputs": [],
   "source": [
    "N = 100"
   ]
  },
  {
   "cell_type": "code",
   "execution_count": 54,
   "metadata": {},
   "outputs": [
    {
     "name": "stdout",
     "output_type": "stream",
     "text": [
      "[ 0.24828179  0.39123676  0.76043712  0.44784948  0.709695    0.61340388\n",
      "  0.99245452  0.33880177  0.30651232  0.17096419  0.87541685  0.87590483\n",
      "  0.73938594  0.69101511  0.07451213  0.37942057  0.52904949  0.97221652\n",
      "  0.10918627  0.00401032  0.52560746  0.00181866  0.49759739  0.2596199\n",
      "  0.6096202   0.55059203  0.61396101  0.37067499  0.51482223  0.75786209\n",
      "  0.56973163  0.21198358  0.64426955  0.5212676   0.71849763  0.20449371\n",
      "  0.65677742  0.94311854  0.74564721  0.84072721  0.42353579  0.21035453\n",
      "  0.89111566  0.67548911  0.18139159  0.51596634  0.79855795  0.2023953\n",
      "  0.02517121  0.64250441  0.97793333  0.97178908  0.03311432  0.5953796\n",
      "  0.86846518  0.01115539  0.58841025  0.26386184  0.00248238  0.59445904\n",
      "  0.70240648  0.54568668  0.77674279  0.19765228  0.24011682  0.42851452\n",
      "  0.00409387  0.83598817  0.74071132  0.44750188  0.09300978  0.82736821\n",
      "  0.52704438  0.08207139  0.62160086  0.70776367  0.8316489   0.10604349\n",
      "  0.97380857  0.38985243  0.56376825  0.46735351  0.19336443  0.35952018\n",
      "  0.10336426  0.825192    0.50026139  0.40241331  0.40654182  0.62397021\n",
      "  0.53457676  0.05152312  0.69267001  0.17620249  0.32588057  0.98735155\n",
      "  0.6116155   0.19143221  0.21687731  0.54409463]\n"
     ]
    }
   ],
   "source": [
    "data = np.random.random(N)\n",
    "print data"
   ]
  },
  {
   "cell_type": "code",
   "execution_count": 55,
   "metadata": {},
   "outputs": [
    {
     "name": "stdout",
     "output_type": "stream",
     "text": [
      "0.493195771228\n"
     ]
    }
   ],
   "source": [
    "meann = np.mean(data)\n",
    "print meann"
   ]
  },
  {
   "cell_type": "code",
   "execution_count": 56,
   "metadata": {},
   "outputs": [
    {
     "name": "stdout",
     "output_type": "stream",
     "text": [
      "-0.0860659795706\n"
     ]
    }
   ],
   "source": [
    "sa = st.skew(data)\n",
    "print sa"
   ]
  },
  {
   "cell_type": "code",
   "execution_count": 57,
   "metadata": {},
   "outputs": [],
   "source": [
    "def calc_avg_leave_one_out_func(func, sample):\n",
    "    means = []\n",
    "    for i in range(len(sample)):\n",
    "        loo_sample = np.hstack([sample[:i], sample[i + 1:]])\n",
    "        res = func(loo_sample)\n",
    "        means.append(res)\n",
    "    \n",
    "    means = np.array(means)\n",
    "    return means.mean(), means.var()"
   ]
  },
  {
   "cell_type": "code",
   "execution_count": 58,
   "metadata": {},
   "outputs": [],
   "source": [
    "def calculate_biases(sample, mean, skew, median):\n",
    "    jackknife_mean, mean_var = calc_avg_leave_one_out_func(np.mean, sample)\n",
    "    just_mean = np.mean(sample)\n",
    "    \n",
    "    jackknife_skew, skew_var = calc_avg_leave_one_out_func(st.skew, sample)\n",
    "    just_skew = st.skew(sample)\n",
    "    \n",
    "    jackknife_median, median_var = calc_avg_leave_one_out_func(np.median, norm_sample)\n",
    "    just_median = np.median(norm_sample)\n",
    "\n",
    "    print('Just mean error = {}'.format(abs(just_mean - mean)))\n",
    "    print('Jackknife mean error = {}'.format(abs(jackknife_mean - mean)))\n",
    "    print('Jackknife mean variance = {}'.format(mean_var))\n",
    "    print('Mean percents = {}'.format(abs(jackknife_mean - mean) / mean))\n",
    "    bias = (N - 1) * (jackknife_mean - just_mean)\n",
    "    print('Bias = {}\\n'.format(bias))\n",
    "    \n",
    "    print('Just skew error = {}'.format(abs(just_skew - skew)))\n",
    "    print('Jackknife skew error = {}'.format(abs(jackknife_skew - skew)))\n",
    "    print('Jackknife skew variance = {}'.format(skew_var))\n",
    "    print('Skew percents = {}'.format(abs(jackknife_skew - skew) / skew))\n",
    "    bias = (N - 1) * (jackknife_skew - just_skew)\n",
    "    print('Bias = {}\\n'.format(bias))\n",
    "    \n",
    "    print('Just median error = {}'.format(abs(just_median - median)))\n",
    "    print('Jackknife median error = {}'.format(abs(jackknife_median - median)))\n",
    "    print('Jackknife median variance = {}'.format(median_var))\n",
    "    print('Median percents = {}'.format(abs(jackknife_median - median) / median))\n",
    "    bias = (N - 1) * (jackknife_median - just_median)\n",
    "    print('Bias = {}'.format(bias))"
   ]
  },
  {
   "cell_type": "markdown",
   "metadata": {},
   "source": [
    "# Log Normal Distribution"
   ]
  },
  {
   "cell_type": "code",
   "execution_count": 84,
   "metadata": {},
   "outputs": [
    {
     "data": {
      "image/png": "[encoded data removed]",
      "text/plain": [
       "<matplotlib.figure.Figure at 0x1a1131c4d0>"
      ]
     },
     "metadata": {},
     "output_type": "display_data"
    }
   ],
   "source": [
    "log_norm = st.lognorm(1.0)\n",
    "mean, var, skew, kurt = log_norm.stats(moments='mvsk')\n",
    "median = log_norm.ppf(0.5)\n",
    "\n",
    "lognorm_sample = log_norm.rvs(N)\n",
    "\n",
    "plt.hist(lognorm_sample, bins=30);\n",
    "plt.show()"
   ]
  },
  {
   "cell_type": "code",
   "execution_count": 85,
   "metadata": {},
   "outputs": [
    {
     "name": "stdout",
     "output_type": "stream",
     "text": [
      "Just mean error = 0.019760738659\n",
      "Jackknife mean error = 0.019760738659\n",
      "Jackknife mean variance = 0.000441518616926\n",
      "Mean percents = 0.0119854938553\n",
      "Bias = 0.0\n",
      "\n",
      "Just skew error = 3.2218294895\n",
      "Jackknife skew error = 3.22248673354\n",
      "Jackknife skew variance = 0.00233897826845\n",
      "Skew percents = 0.52102679832\n",
      "Bias = -0.0650671601174\n",
      "\n",
      "Just median error = 1.04826265613\n",
      "Jackknife median error = 1.04826265613\n",
      "Jackknife median variance = 3.72038672677e-05\n",
      "Median percents = 1.04826265613\n",
      "Bias = 0.0\n"
     ]
    }
   ],
   "source": [
    "calculate_biases(lognorm_sample, mean, skew, median)"
   ]
  },
  {
   "cell_type": "markdown",
   "metadata": {},
   "source": [
    "# Normal Distribution"
   ]
  },
  {
   "cell_type": "code",
   "execution_count": 88,
   "metadata": {},
   "outputs": [
    {
     "data": {
      "image/png": "[encoded data removed]",
      "text/plain": [
       "<matplotlib.figure.Figure at 0x1a11441a10>"
      ]
     },
     "metadata": {},
     "output_type": "display_data"
    }
   ],
   "source": [
    "norm = st.norm()\n",
    "mean, var, skew, kurt = norm.stats(moments='mvsk')\n",
    "median = norm.ppf(0.5)\n",
    "\n",
    "norm_sample = norm.rvs(N)\n",
    "\n",
    "plt.hist(norm_sample, bins=30);\n",
    "plt.show()"
   ]
  },
  {
   "cell_type": "code",
   "execution_count": 64,
   "metadata": {},
   "outputs": [
    {
     "name": "stdout",
     "output_type": "stream",
     "text": [
      "Just mean error = 0.0382221093822\n",
      "Jackknife mean error = 0.0382221093822\n",
      "Jackknife mean variance = 7.95636265628e-05\n",
      "Mean percents = inf\n",
      "Bias = -6.86950496487e-16\n",
      "\n",
      "Just skew error = 0.135791029503\n",
      "Jackknife skew error = 0.136003966713\n",
      "Jackknife skew variance = 0.000714606135649\n",
      "Skew percents = inf\n",
      "Bias = 0.021080783824\n",
      "\n",
      "Just median error = 0.0482626561251\n",
      "Jackknife median error = 0.0482626561251\n",
      "Jackknife median variance = 3.72038672677e-05\n",
      "Median percents = inf\n",
      "Bias = 0.0\n"
     ]
    },
    {
     "name": "stderr",
     "output_type": "stream",
     "text": [
      "/anaconda2/lib/python2.7/site-packages/ipykernel_launcher.py:14: RuntimeWarning:\n",
      "\n",
      "divide by zero encountered in double_scalars\n",
      "\n",
      "/anaconda2/lib/python2.7/site-packages/ipykernel_launcher.py:21: RuntimeWarning:\n",
      "\n",
      "divide by zero encountered in double_scalars\n",
      "\n",
      "/anaconda2/lib/python2.7/site-packages/ipykernel_launcher.py:28: RuntimeWarning:\n",
      "\n",
      "divide by zero encountered in double_scalars\n",
      "\n"
     ]
    }
   ],
   "source": [
    "calculate_biases(norm_sample, mean, skew, median)"
   ]
  },
  {
   "cell_type": "code",
   "execution_count": null,
   "metadata": {
    "collapsed": true
   },
   "outputs": [],
   "source": []
  },
  {
   "cell_type": "code",
   "execution_count": 65,
   "metadata": {},
   "outputs": [
    {
     "name": "stdout",
     "output_type": "stream",
     "text": [
      "0.526325919223\n"
     ]
    }
   ],
   "source": [
    "me = np.median(data)\n",
    "print me"
   ]
  },
  {
   "cell_type": "code",
   "execution_count": 66,
   "metadata": {},
   "outputs": [
    {
     "data": {
      "text/plain": [
       "array([[ 0.39123676,  0.76043712,  0.44784948, ...,  0.19143221,\n",
       "         0.21687731,  0.54409463],\n",
       "       [ 0.24828179,  0.76043712,  0.44784948, ...,  0.19143221,\n",
       "         0.21687731,  0.54409463],\n",
       "       [ 0.24828179,  0.39123676,  0.44784948, ...,  0.19143221,\n",
       "         0.21687731,  0.54409463],\n",
       "       ..., \n",
       "       [ 0.24828179,  0.39123676,  0.76043712, ...,  0.6116155 ,\n",
       "         0.21687731,  0.54409463],\n",
       "       [ 0.24828179,  0.39123676,  0.76043712, ...,  0.6116155 ,\n",
       "         0.19143221,  0.54409463],\n",
       "       [ 0.24828179,  0.39123676,  0.76043712, ...,  0.6116155 ,\n",
       "         0.19143221,  0.21687731]])"
      ]
     },
     "execution_count": 66,
     "metadata": {},
     "output_type": "execute_result"
    }
   ],
   "source": [
    "resamples = jackknife_resampling(data)\n",
    "resamples"
   ]
  },
  {
   "cell_type": "code",
   "execution_count": 68,
   "metadata": {},
   "outputs": [
    {
     "data": {
      "text/plain": [
       "(100, 99)"
      ]
     },
     "execution_count": 68,
     "metadata": {},
     "output_type": "execute_result"
    }
   ],
   "source": [
    "resamples.shape"
   ]
  },
  {
   "cell_type": "code",
   "execution_count": 69,
   "metadata": {
    "collapsed": true
   },
   "outputs": [],
   "source": [
    "test_statistic = np.mean"
   ]
  },
  {
   "cell_type": "code",
   "execution_count": 70,
   "metadata": {},
   "outputs": [
    {
     "name": "stdout",
     "output_type": "stream",
     "text": [
      "0.493195771228\n"
     ]
    }
   ],
   "source": [
    "meannb = np.mean(resamples)\n",
    "print meannb"
   ]
  },
  {
   "cell_type": "code",
   "execution_count": 13,
   "metadata": {
    "collapsed": true
   },
   "outputs": [],
   "source": [
    "estimate, bias, stderr, conf_interval = jackknife_stats(data, test_statistic, 0.95)"
   ]
  },
  {
   "cell_type": "code",
   "execution_count": 14,
   "metadata": {},
   "outputs": [
    {
     "data": {
      "text/plain": [
       "0.48179995626502442"
      ]
     },
     "execution_count": 14,
     "metadata": {},
     "output_type": "execute_result"
    }
   ],
   "source": [
    "estimate"
   ]
  },
  {
   "cell_type": "code",
   "execution_count": 15,
   "metadata": {},
   "outputs": [
    {
     "data": {
      "text/plain": [
       "1.099120794378905e-14"
      ]
     },
     "execution_count": 15,
     "metadata": {},
     "output_type": "execute_result"
    }
   ],
   "source": [
    "bias"
   ]
  },
  {
   "cell_type": "code",
   "execution_count": 16,
   "metadata": {},
   "outputs": [
    {
     "data": {
      "text/plain": [
       "0.025809392751893444"
      ]
     },
     "execution_count": 16,
     "metadata": {},
     "output_type": "execute_result"
    }
   ],
   "source": [
    "stderr"
   ]
  },
  {
   "cell_type": "code",
   "execution_count": 17,
   "metadata": {},
   "outputs": [
    {
     "data": {
      "text/plain": [
       "array([ 0.43121448,  0.53238544])"
      ]
     },
     "execution_count": 17,
     "metadata": {},
     "output_type": "execute_result"
    }
   ],
   "source": [
    "conf_interval"
   ]
  },
  {
   "cell_type": "code",
   "execution_count": 18,
   "metadata": {
    "collapsed": true
   },
   "outputs": [],
   "source": [
    "test_statistic = lambda x: (np.mean(x), np.var(x))"
   ]
  },
  {
   "cell_type": "code",
   "execution_count": 19,
   "metadata": {
    "collapsed": true
   },
   "outputs": [],
   "source": [
    "estimate, bias, stderr, conf_interval = jackknife_stats(data, test_statistic, 0.95)"
   ]
  },
  {
   "cell_type": "code",
   "execution_count": 20,
   "metadata": {},
   "outputs": [
    {
     "data": {
      "text/plain": [
       "array([ 0.48179996,  0.06661248])"
      ]
     },
     "execution_count": 20,
     "metadata": {},
     "output_type": "execute_result"
    }
   ],
   "source": [
    "estimate"
   ]
  },
  {
   "cell_type": "code",
   "execution_count": 21,
   "metadata": {},
   "outputs": [
    {
     "data": {
      "text/plain": [
       "array([  1.09912079e-14,  -6.66124754e-04])"
      ]
     },
     "execution_count": 21,
     "metadata": {},
     "output_type": "execute_result"
    }
   ],
   "source": [
    "bias"
   ]
  },
  {
   "cell_type": "code",
   "execution_count": 22,
   "metadata": {},
   "outputs": [
    {
     "data": {
      "text/plain": [
       "array([[ 0.43121448,  0.05333065],\n",
       "       [ 0.53238544,  0.0798943 ]])"
      ]
     },
     "execution_count": 22,
     "metadata": {},
     "output_type": "execute_result"
    }
   ],
   "source": [
    "conf_interval"
   ]
  },
  {
   "cell_type": "code",
   "execution_count": 34,
   "metadata": {},
   "outputs": [
    {
     "data": {
      "text/plain": [
       "0.00017517566107976549"
      ]
     },
     "execution_count": 34,
     "metadata": {},
     "output_type": "execute_result"
    }
   ],
   "source": [
    "# estimate of the variance of an estimator\n",
    "jackknife_var(data, np.std)"
   ]
  },
  {
   "cell_type": "code",
   "execution_count": null,
   "metadata": {
    "collapsed": true
   },
   "outputs": [],
   "source": []
  },
  {
   "cell_type": "code",
   "execution_count": null,
   "metadata": {
    "collapsed": true
   },
   "outputs": [],
   "source": []
  }
 ],
 "metadata": {
  "kernelspec": {
   "display_name": "Python 2",
   "language": "python",
   "name": "python2"
  },
  "language_info": {
   "codemirror_mode": {
    "name": "ipython",
    "version": 2
   },
   "file_extension": ".py",
   "mimetype": "text/x-python",
   "name": "python",
   "nbconvert_exporter": "python",
   "pygments_lexer": "ipython2",
   "version": "2.7.13"
  }
 },
 "nbformat": 4,
 "nbformat_minor": 2
}
