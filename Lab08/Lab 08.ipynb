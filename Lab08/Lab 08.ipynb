{
 "cells": [
  {
   "cell_type": "markdown",
   "metadata": {},
   "source": [
    "# Assignment performed by:"
   ]
  },
  {
   "cell_type": "markdown",
   "metadata": {},
   "source": [
    "## Name: SONGA MUGABE Fabrice"
   ]
  },
  {
   "cell_type": "markdown",
   "metadata": {},
   "source": [
    "# Link: https://github.com/fafasonga/advstat-labs"
   ]
  },
  {
   "cell_type": "code",
   "execution_count": null,
   "metadata": {
    "collapsed": true
   },
   "outputs": [],
   "source": []
  },
  {
   "cell_type": "code",
   "execution_count": 103,
   "metadata": {},
   "outputs": [],
   "source": [
    "import pandas as pd\n",
    "import numpy as np\n",
    "from tqdm import tqdm\n",
    "import scipy.stats as st\n",
    "import matplotlib.pyplot as plt\n",
    "from scipy.optimize import minimize\n",
    "from sklearn.linear_model import LinearRegression"
   ]
  },
  {
   "cell_type": "markdown",
   "metadata": {},
   "source": [
    "# Assignment 1"
   ]
  },
  {
   "cell_type": "markdown",
   "metadata": {},
   "source": [
    "# Loading Datasets"
   ]
  },
  {
   "cell_type": "code",
   "execution_count": 14,
   "metadata": {
    "collapsed": true
   },
   "outputs": [],
   "source": [
    "data1 = pd.read_csv(\"./ds-boot-2.csv\", sep='\\t')"
   ]
  },
  {
   "cell_type": "code",
   "execution_count": 15,
   "metadata": {},
   "outputs": [
    {
     "data": {
      "text/html": [
       "<div>\n",
       "<style>\n",
       "    .dataframe thead tr:only-child th {\n",
       "        text-align: right;\n",
       "    }\n",
       "\n",
       "    .dataframe thead th {\n",
       "        text-align: left;\n",
       "    }\n",
       "\n",
       "    .dataframe tbody tr th {\n",
       "        vertical-align: top;\n",
       "    }\n",
       "</style>\n",
       "<table border=\"1\" class=\"dataframe\">\n",
       "  <thead>\n",
       "    <tr style=\"text-align: right;\">\n",
       "      <th></th>\n",
       "      <th>id</th>\n",
       "      <th>p1</th>\n",
       "      <th>p2</th>\n",
       "      <th>p3</th>\n",
       "      <th>p4</th>\n",
       "      <th>p5</th>\n",
       "      <th>p6</th>\n",
       "      <th>p7</th>\n",
       "      <th>p8</th>\n",
       "      <th>p9</th>\n",
       "      <th>...</th>\n",
       "      <th>p24</th>\n",
       "      <th>p25</th>\n",
       "      <th>p26</th>\n",
       "      <th>p27</th>\n",
       "      <th>p28</th>\n",
       "      <th>y1</th>\n",
       "      <th>y2</th>\n",
       "      <th>y3</th>\n",
       "      <th>y4</th>\n",
       "      <th>y5</th>\n",
       "    </tr>\n",
       "  </thead>\n",
       "  <tbody>\n",
       "    <tr>\n",
       "      <th>0</th>\n",
       "      <td>11</td>\n",
       "      <td>6.48148</td>\n",
       "      <td>3.0</td>\n",
       "      <td>5.0</td>\n",
       "      <td>7.75000</td>\n",
       "      <td>0.0</td>\n",
       "      <td>7.16667</td>\n",
       "      <td>8.16667</td>\n",
       "      <td>9.66667</td>\n",
       "      <td>6.16667</td>\n",
       "      <td>...</td>\n",
       "      <td>1.66667</td>\n",
       "      <td>3.16667</td>\n",
       "      <td>0.0</td>\n",
       "      <td>0.00000</td>\n",
       "      <td>0.0</td>\n",
       "      <td>1.0</td>\n",
       "      <td>5.00</td>\n",
       "      <td>7.44</td>\n",
       "      <td>1.18</td>\n",
       "      <td>4.38</td>\n",
       "    </tr>\n",
       "    <tr>\n",
       "      <th>1</th>\n",
       "      <td>12</td>\n",
       "      <td>5.74074</td>\n",
       "      <td>4.0</td>\n",
       "      <td>8.0</td>\n",
       "      <td>7.33333</td>\n",
       "      <td>8.0</td>\n",
       "      <td>8.83333</td>\n",
       "      <td>9.75000</td>\n",
       "      <td>9.66667</td>\n",
       "      <td>9.00000</td>\n",
       "      <td>...</td>\n",
       "      <td>2.50000</td>\n",
       "      <td>5.50000</td>\n",
       "      <td>5.0</td>\n",
       "      <td>8.66667</td>\n",
       "      <td>8.0</td>\n",
       "      <td>4.5</td>\n",
       "      <td>4.25</td>\n",
       "      <td>8.93</td>\n",
       "      <td>2.00</td>\n",
       "      <td>6.03</td>\n",
       "    </tr>\n",
       "    <tr>\n",
       "      <th>2</th>\n",
       "      <td>25</td>\n",
       "      <td>7.59259</td>\n",
       "      <td>7.0</td>\n",
       "      <td>8.0</td>\n",
       "      <td>7.66667</td>\n",
       "      <td>8.0</td>\n",
       "      <td>9.66667</td>\n",
       "      <td>9.50000</td>\n",
       "      <td>6.16667</td>\n",
       "      <td>9.66667</td>\n",
       "      <td>...</td>\n",
       "      <td>3.50000</td>\n",
       "      <td>3.50000</td>\n",
       "      <td>9.0</td>\n",
       "      <td>6.50000</td>\n",
       "      <td>7.0</td>\n",
       "      <td>7.5</td>\n",
       "      <td>11.00</td>\n",
       "      <td>8.97</td>\n",
       "      <td>2.00</td>\n",
       "      <td>9.12</td>\n",
       "    </tr>\n",
       "    <tr>\n",
       "      <th>3</th>\n",
       "      <td>31</td>\n",
       "      <td>5.96297</td>\n",
       "      <td>4.0</td>\n",
       "      <td>8.0</td>\n",
       "      <td>9.33333</td>\n",
       "      <td>10.0</td>\n",
       "      <td>9.33333</td>\n",
       "      <td>7.00000</td>\n",
       "      <td>8.50000</td>\n",
       "      <td>9.66667</td>\n",
       "      <td>...</td>\n",
       "      <td>0.00000</td>\n",
       "      <td>0.00000</td>\n",
       "      <td>0.0</td>\n",
       "      <td>0.00000</td>\n",
       "      <td>0.0</td>\n",
       "      <td>4.0</td>\n",
       "      <td>6.25</td>\n",
       "      <td>8.93</td>\n",
       "      <td>1.82</td>\n",
       "      <td>6.41</td>\n",
       "    </tr>\n",
       "    <tr>\n",
       "      <th>4</th>\n",
       "      <td>48</td>\n",
       "      <td>5.44444</td>\n",
       "      <td>1.0</td>\n",
       "      <td>3.5</td>\n",
       "      <td>6.41667</td>\n",
       "      <td>9.0</td>\n",
       "      <td>8.50000</td>\n",
       "      <td>7.08333</td>\n",
       "      <td>6.33333</td>\n",
       "      <td>9.00000</td>\n",
       "      <td>...</td>\n",
       "      <td>0.00000</td>\n",
       "      <td>0.00000</td>\n",
       "      <td>0.0</td>\n",
       "      <td>0.00000</td>\n",
       "      <td>0.0</td>\n",
       "      <td>0.0</td>\n",
       "      <td>3.00</td>\n",
       "      <td>8.08</td>\n",
       "      <td>1.36</td>\n",
       "      <td>3.67</td>\n",
       "    </tr>\n",
       "  </tbody>\n",
       "</table>\n",
       "<p>5 rows × 34 columns</p>\n",
       "</div>"
      ],
      "text/plain": [
       "   id       p1   p2   p3       p4    p5       p6       p7       p8       p9  \\\n",
       "0  11  6.48148  3.0  5.0  7.75000   0.0  7.16667  8.16667  9.66667  6.16667   \n",
       "1  12  5.74074  4.0  8.0  7.33333   8.0  8.83333  9.75000  9.66667  9.00000   \n",
       "2  25  7.59259  7.0  8.0  7.66667   8.0  9.66667  9.50000  6.16667  9.66667   \n",
       "3  31  5.96297  4.0  8.0  9.33333  10.0  9.33333  7.00000  8.50000  9.66667   \n",
       "4  48  5.44444  1.0  3.5  6.41667   9.0  8.50000  7.08333  6.33333  9.00000   \n",
       "\n",
       "   ...       p24      p25  p26      p27  p28   y1     y2    y3    y4    y5  \n",
       "0  ...   1.66667  3.16667  0.0  0.00000  0.0  1.0   5.00  7.44  1.18  4.38  \n",
       "1  ...   2.50000  5.50000  5.0  8.66667  8.0  4.5   4.25  8.93  2.00  6.03  \n",
       "2  ...   3.50000  3.50000  9.0  6.50000  7.0  7.5  11.00  8.97  2.00  9.12  \n",
       "3  ...   0.00000  0.00000  0.0  0.00000  0.0  4.0   6.25  8.93  1.82  6.41  \n",
       "4  ...   0.00000  0.00000  0.0  0.00000  0.0  0.0   3.00  8.08  1.36  3.67  \n",
       "\n",
       "[5 rows x 34 columns]"
      ]
     },
     "execution_count": 15,
     "metadata": {},
     "output_type": "execute_result"
    }
   ],
   "source": [
    "data1.head()"
   ]
  },
  {
   "cell_type": "markdown",
   "metadata": {},
   "source": [
    "# Estimating Mean, Median, Error and confidence Interval"
   ]
  },
  {
   "cell_type": "code",
   "execution_count": 16,
   "metadata": {
    "collapsed": true
   },
   "outputs": [],
   "source": [
    "def bootstrap(X, B=1000, s=np.mean):\n",
    "    sample = np.random.choice(X, size=(B, len(X)))\n",
    "    estimations = s(sample, axis=1)\n",
    "    est = estimations.mean()\n",
    "    error = (((estimations - est) ** 2).sum() / (B - 1)) ** 0.5\n",
    "    conf_int = np.percentile(estimations, [2.5, 97.5])\n",
    "    return est, error, conf_int"
   ]
  },
  {
   "cell_type": "code",
   "execution_count": 19,
   "metadata": {},
   "outputs": [
    {
     "name": "stdout",
     "output_type": "stream",
     "text": [
      "(4.0254124999999998, 0.43989813760143975, array([ 3.1996875,  4.8503125]))\n"
     ]
    }
   ],
   "source": [
    "print(bootstrap(data1['y1'], s=np.mean))"
   ]
  },
  {
   "cell_type": "code",
   "execution_count": 20,
   "metadata": {},
   "outputs": [
    {
     "name": "stdout",
     "output_type": "stream",
     "text": [
      "(4.0054999999999996, 0.54407330918339103, array([ 3.,  6.]))\n"
     ]
    }
   ],
   "source": [
    "print(bootstrap(data1['y1'], s=np.median))"
   ]
  },
  {
   "cell_type": "code",
   "execution_count": 25,
   "metadata": {
    "collapsed": true
   },
   "outputs": [],
   "source": [
    "target = ['y1', 'y2', 'y3', 'y4', 'y5']"
   ]
  },
  {
   "cell_type": "code",
   "execution_count": 29,
   "metadata": {},
   "outputs": [
    {
     "name": "stdout",
     "output_type": "stream",
     "text": [
      "('y1', 'mean:', (4.0225625000000003, 0.44275302945190437, array([ 3.1371875,  4.9003125])))\n",
      "('y1', 'meadian:', (4.0182500000000001, 0.53783706287890409, array([ 3.,  6.])))\n",
      "('y2', 'mean:', (5.5227937499999999, 0.53026086267130679, array([ 4.4809375,  6.5753125])))\n",
      "('y2', 'meadian:', (6.1651249999999997, 0.66438657338472307, array([ 4.625,  7.25 ])))\n",
      "('y3', 'mean:', (7.3128430000000009, 0.45754116825335689, array([ 6.35858125,  8.11305625])))\n",
      "('y3', 'meadian:', (8.3044249999999984, 0.27978818023783802, array([ 7.96,  8.92])))\n",
      "('y4', 'mean:', (1.5286759999999999, 0.10993528398865246, array([ 1.29313125,  1.72755   ])))\n",
      "('y4', 'meadian:', (1.8497199999999998, 0.13321399163589226, array([ 1.64,  2.  ])))\n",
      "('y5', 'mean:', (5.6435752499999996, 0.45151077922757971, array([ 4.7133125 ,  6.55406875])))\n",
      "('y5', 'meadian:', (6.1481299999999992, 0.44503872029584418, array([ 5.09   ,  7.04625])))\n"
     ]
    }
   ],
   "source": [
    "for label in target:\n",
    "    print(label, 'mean:', bootstrap(data1[label], s=np.mean))\n",
    "    print(label, 'meadian:', bootstrap(data1[label], s=np.median))"
   ]
  },
  {
   "cell_type": "markdown",
   "metadata": {},
   "source": [
    "# Linear Reagression of Initial Sample"
   ]
  },
  {
   "cell_type": "code",
   "execution_count": 31,
   "metadata": {
    "collapsed": true
   },
   "outputs": [],
   "source": [
    "features = ['p1', 'p2', 'p3', 'p4', 'p5', 'p6']"
   ]
  },
  {
   "cell_type": "code",
   "execution_count": 34,
   "metadata": {},
   "outputs": [
    {
     "name": "stdout",
     "output_type": "stream",
     "text": [
      "('y1', array([ 0.19590832,  0.29677494, -0.18401943,  0.02210887,  0.13189801,\n",
      "        0.28986106]))\n",
      "('y2', array([ 0.12744323,  0.18071353,  0.03383592,  0.10825791, -0.05377676,\n",
      "        0.57520423]))\n",
      "('y3', array([ 0.15867643,  0.01838332,  0.12772208,  0.29122447,  0.17922699,\n",
      "        0.23654851]))\n",
      "('y4', array([-0.00486422,  0.00423981,  0.11801823,  0.02819031,  0.06902863,\n",
      "        0.00098964]))\n",
      "('y5', array([ 0.152759  ,  0.16444265,  0.01372641,  0.1348942 ,  0.10091446,\n",
      "        0.34552193]))\n"
     ]
    }
   ],
   "source": [
    "for label in target:\n",
    "    model = LinearRegression()\n",
    "    model.fit(data1[features], data1[label])\n",
    "    print(label, model.coef_)"
   ]
  },
  {
   "cell_type": "code",
   "execution_count": 41,
   "metadata": {},
   "outputs": [
    {
     "data": {
      "text/plain": [
       "' returns estimations of coefficients (with intercept) and 95% confidence intervals'"
      ]
     },
     "execution_count": 41,
     "metadata": {},
     "output_type": "execute_result"
    }
   ],
   "source": [
    "''' returns estimations of coefficients (with intercept) and 95% confidence intervals'''"
   ]
  },
  {
   "cell_type": "code",
   "execution_count": 46,
   "metadata": {},
   "outputs": [
    {
     "name": "stdout",
     "output_type": "stream",
     "text": [
      "('y1', 'coef', array([ 0.22463472,  0.28980205, -0.10382083,  0.08125146,  0.11644295,\n",
      "        0.15215769]), 'inpt', -0.41910306506748296, 'from', array([ -1.40856474e-01,  -2.29086371e-04,  -5.63793913e-01,\n",
      "        -4.16708187e-01,  -4.28611544e-01,  -6.51422751e-01]), '    ', -1.5770405968985788, 'to  ', array([ 0.64207573,  0.56339271,  0.45155496,  0.63688043,  0.50980624,\n",
      "        0.63016197]), '    ', 0.19862459178211342)\n",
      "('y2', 'coef', array([ 0.12663644,  0.1667847 ,  0.12882126,  0.15719443, -0.05688789,\n",
      "        0.4505047 ]), 'inpt', -0.57658408788651783, 'from', array([-0.33377816, -0.17864577, -0.47830489, -0.30100218, -0.5197511 ,\n",
      "       -0.40707145]), '    ', -1.8721329917677563, 'to  ', array([ 0.62772802,  0.51895294,  0.9030343 ,  0.61496594,  0.32975561,\n",
      "        0.89073681]), '    ', 0.044147174173777975)\n",
      "('y3', 'coef', array([ 0.14284834,  0.02293654,  0.10997328,  0.29424803,  0.19422908,\n",
      "        0.25047633]), 'inpt', 0.59394802278581382, 'from', array([-0.02319219, -0.12887419, -0.13574963,  0.04210328,  0.02813852,\n",
      "        0.08008447]), '    ', 0.12156386822031259, 'to  ', array([ 0.34324145,  0.14931606,  0.34657332,  0.58565871,  0.46135293,\n",
      "        0.52436244]), '    ', 1.5549078117119659)\n",
      "('y4', 'coef', array([-0.0068014 ,  0.00369745,  0.1123937 ,  0.03663883,  0.06645114,\n",
      "        0.00278617]), 'inpt', 0.16352285098141914, 'from', array([-0.07835879, -0.04661939,  0.0236164 , -0.06129826, -0.0005119 ,\n",
      "       -0.05942521]), '    ', 0.0025354324960521601, 'to  ', array([ 0.06908237,  0.04289823,  0.20559006,  0.16372822,  0.15278733,\n",
      "        0.09860887]), '    ', 0.45798030791012839)\n",
      "('y5', 'coef', array([ 0.15660345,  0.15835752,  0.07123004,  0.18233068,  0.08581595,\n",
      "        0.2632244 ]), 'inpt', -0.10523573325319747, 'from', array([-0.06399186, -0.03372856, -0.22236054, -0.06935755, -0.19609543,\n",
      "       -0.23347076]), '    ', -0.60510108586200617, 'to  ', array([ 0.42009691,  0.32933409,  0.45092234,  0.52334056,  0.30822958,\n",
      "        0.533443  ]), '    ', 0.28852436458369435)\n"
     ]
    }
   ],
   "source": [
    "def coeffs_bootstrap(X, Y, B=1000, model_class=LinearRegression):\n",
    "    \n",
    "    n = X.shape[0]\n",
    "    coeffs = []\n",
    "    for b in range(B):\n",
    "        model = model_class()\n",
    "        idx = np.random.randint(n, size=n)\n",
    "        model.fit(X.as_matrix()[idx, :], Y.as_matrix()[idx])\n",
    "        coeffs.append(np.append(model.coef_, model.intercept_))\n",
    "    coeffs = np.array(coeffs)\n",
    "    conf_int = np.percentile(coeffs, [2.5, 97.5], axis=0)\n",
    "    return coeffs.mean(axis=0), conf_int\n",
    "\n",
    "\n",
    "for label in targets:\n",
    "    coeffs, intervals = coeffs_bootstrap(data1[features], data1[label])\n",
    "    print(label,\n",
    "          'coef', coeffs[:-1], 'inpt', coeffs[-1],\n",
    "          'from', intervals[0][:-1], '    ', intervals[0][-1],\n",
    "          'to  ', intervals[1][:-1], '    ', intervals[1][-1])"
   ]
  },
  {
   "cell_type": "code",
   "execution_count": null,
   "metadata": {
    "collapsed": true
   },
   "outputs": [],
   "source": []
  },
  {
   "cell_type": "markdown",
   "metadata": {},
   "source": [
    "# Assignment 2"
   ]
  },
  {
   "cell_type": "code",
   "execution_count": null,
   "metadata": {
    "collapsed": true
   },
   "outputs": [],
   "source": []
  },
  {
   "cell_type": "markdown",
   "metadata": {},
   "source": [
    "# Loading Datasets"
   ]
  },
  {
   "cell_type": "code",
   "execution_count": 65,
   "metadata": {
    "collapsed": true
   },
   "outputs": [],
   "source": [
    "data2 = pd.read_csv(\"./ds-boot-1.csv\", sep='\\t')"
   ]
  },
  {
   "cell_type": "code",
   "execution_count": 66,
   "metadata": {},
   "outputs": [
    {
     "data": {
      "text/html": [
       "<div>\n",
       "<style>\n",
       "    .dataframe thead tr:only-child th {\n",
       "        text-align: right;\n",
       "    }\n",
       "\n",
       "    .dataframe thead th {\n",
       "        text-align: left;\n",
       "    }\n",
       "\n",
       "    .dataframe tbody tr th {\n",
       "        vertical-align: top;\n",
       "    }\n",
       "</style>\n",
       "<table border=\"1\" class=\"dataframe\">\n",
       "  <thead>\n",
       "    <tr style=\"text-align: right;\">\n",
       "      <th></th>\n",
       "      <th>day</th>\n",
       "      <th>bugsPerDay</th>\n",
       "      <th>cummBugs</th>\n",
       "    </tr>\n",
       "  </thead>\n",
       "  <tbody>\n",
       "    <tr>\n",
       "      <th>0</th>\n",
       "      <td>1</td>\n",
       "      <td>0</td>\n",
       "      <td>0</td>\n",
       "    </tr>\n",
       "    <tr>\n",
       "      <th>1</th>\n",
       "      <td>2</td>\n",
       "      <td>1</td>\n",
       "      <td>1</td>\n",
       "    </tr>\n",
       "    <tr>\n",
       "      <th>2</th>\n",
       "      <td>3</td>\n",
       "      <td>0</td>\n",
       "      <td>1</td>\n",
       "    </tr>\n",
       "    <tr>\n",
       "      <th>3</th>\n",
       "      <td>4</td>\n",
       "      <td>2</td>\n",
       "      <td>3</td>\n",
       "    </tr>\n",
       "    <tr>\n",
       "      <th>4</th>\n",
       "      <td>5</td>\n",
       "      <td>1</td>\n",
       "      <td>4</td>\n",
       "    </tr>\n",
       "    <tr>\n",
       "      <th>5</th>\n",
       "      <td>6</td>\n",
       "      <td>0</td>\n",
       "      <td>4</td>\n",
       "    </tr>\n",
       "    <tr>\n",
       "      <th>6</th>\n",
       "      <td>7</td>\n",
       "      <td>0</td>\n",
       "      <td>4</td>\n",
       "    </tr>\n",
       "    <tr>\n",
       "      <th>7</th>\n",
       "      <td>8</td>\n",
       "      <td>0</td>\n",
       "      <td>4</td>\n",
       "    </tr>\n",
       "    <tr>\n",
       "      <th>8</th>\n",
       "      <td>9</td>\n",
       "      <td>0</td>\n",
       "      <td>4</td>\n",
       "    </tr>\n",
       "    <tr>\n",
       "      <th>9</th>\n",
       "      <td>10</td>\n",
       "      <td>0</td>\n",
       "      <td>4</td>\n",
       "    </tr>\n",
       "    <tr>\n",
       "      <th>10</th>\n",
       "      <td>11</td>\n",
       "      <td>0</td>\n",
       "      <td>4</td>\n",
       "    </tr>\n",
       "    <tr>\n",
       "      <th>11</th>\n",
       "      <td>12</td>\n",
       "      <td>0</td>\n",
       "      <td>4</td>\n",
       "    </tr>\n",
       "    <tr>\n",
       "      <th>12</th>\n",
       "      <td>13</td>\n",
       "      <td>3</td>\n",
       "      <td>7</td>\n",
       "    </tr>\n",
       "    <tr>\n",
       "      <th>13</th>\n",
       "      <td>14</td>\n",
       "      <td>1</td>\n",
       "      <td>8</td>\n",
       "    </tr>\n",
       "    <tr>\n",
       "      <th>14</th>\n",
       "      <td>15</td>\n",
       "      <td>2</td>\n",
       "      <td>10</td>\n",
       "    </tr>\n",
       "    <tr>\n",
       "      <th>15</th>\n",
       "      <td>16</td>\n",
       "      <td>0</td>\n",
       "      <td>10</td>\n",
       "    </tr>\n",
       "    <tr>\n",
       "      <th>16</th>\n",
       "      <td>17</td>\n",
       "      <td>0</td>\n",
       "      <td>10</td>\n",
       "    </tr>\n",
       "    <tr>\n",
       "      <th>17</th>\n",
       "      <td>18</td>\n",
       "      <td>0</td>\n",
       "      <td>10</td>\n",
       "    </tr>\n",
       "    <tr>\n",
       "      <th>18</th>\n",
       "      <td>19</td>\n",
       "      <td>0</td>\n",
       "      <td>10</td>\n",
       "    </tr>\n",
       "    <tr>\n",
       "      <th>19</th>\n",
       "      <td>20</td>\n",
       "      <td>0</td>\n",
       "      <td>10</td>\n",
       "    </tr>\n",
       "    <tr>\n",
       "      <th>20</th>\n",
       "      <td>21</td>\n",
       "      <td>0</td>\n",
       "      <td>10</td>\n",
       "    </tr>\n",
       "    <tr>\n",
       "      <th>21</th>\n",
       "      <td>22</td>\n",
       "      <td>2</td>\n",
       "      <td>12</td>\n",
       "    </tr>\n",
       "    <tr>\n",
       "      <th>22</th>\n",
       "      <td>23</td>\n",
       "      <td>0</td>\n",
       "      <td>12</td>\n",
       "    </tr>\n",
       "    <tr>\n",
       "      <th>23</th>\n",
       "      <td>24</td>\n",
       "      <td>0</td>\n",
       "      <td>12</td>\n",
       "    </tr>\n",
       "    <tr>\n",
       "      <th>24</th>\n",
       "      <td>25</td>\n",
       "      <td>0</td>\n",
       "      <td>12</td>\n",
       "    </tr>\n",
       "    <tr>\n",
       "      <th>25</th>\n",
       "      <td>26</td>\n",
       "      <td>0</td>\n",
       "      <td>12</td>\n",
       "    </tr>\n",
       "    <tr>\n",
       "      <th>26</th>\n",
       "      <td>27</td>\n",
       "      <td>0</td>\n",
       "      <td>12</td>\n",
       "    </tr>\n",
       "    <tr>\n",
       "      <th>27</th>\n",
       "      <td>28</td>\n",
       "      <td>1</td>\n",
       "      <td>13</td>\n",
       "    </tr>\n",
       "    <tr>\n",
       "      <th>28</th>\n",
       "      <td>29</td>\n",
       "      <td>0</td>\n",
       "      <td>13</td>\n",
       "    </tr>\n",
       "    <tr>\n",
       "      <th>29</th>\n",
       "      <td>30</td>\n",
       "      <td>0</td>\n",
       "      <td>13</td>\n",
       "    </tr>\n",
       "    <tr>\n",
       "      <th>...</th>\n",
       "      <td>...</td>\n",
       "      <td>...</td>\n",
       "      <td>...</td>\n",
       "    </tr>\n",
       "    <tr>\n",
       "      <th>1297</th>\n",
       "      <td>1298</td>\n",
       "      <td>2</td>\n",
       "      <td>5521</td>\n",
       "    </tr>\n",
       "    <tr>\n",
       "      <th>1298</th>\n",
       "      <td>1299</td>\n",
       "      <td>3</td>\n",
       "      <td>5524</td>\n",
       "    </tr>\n",
       "    <tr>\n",
       "      <th>1299</th>\n",
       "      <td>1300</td>\n",
       "      <td>0</td>\n",
       "      <td>5524</td>\n",
       "    </tr>\n",
       "    <tr>\n",
       "      <th>1300</th>\n",
       "      <td>1301</td>\n",
       "      <td>1</td>\n",
       "      <td>5525</td>\n",
       "    </tr>\n",
       "    <tr>\n",
       "      <th>1301</th>\n",
       "      <td>1302</td>\n",
       "      <td>0</td>\n",
       "      <td>5525</td>\n",
       "    </tr>\n",
       "    <tr>\n",
       "      <th>1302</th>\n",
       "      <td>1303</td>\n",
       "      <td>0</td>\n",
       "      <td>5525</td>\n",
       "    </tr>\n",
       "    <tr>\n",
       "      <th>1303</th>\n",
       "      <td>1304</td>\n",
       "      <td>3</td>\n",
       "      <td>5528</td>\n",
       "    </tr>\n",
       "    <tr>\n",
       "      <th>1304</th>\n",
       "      <td>1305</td>\n",
       "      <td>1</td>\n",
       "      <td>5529</td>\n",
       "    </tr>\n",
       "    <tr>\n",
       "      <th>1305</th>\n",
       "      <td>1306</td>\n",
       "      <td>1</td>\n",
       "      <td>5530</td>\n",
       "    </tr>\n",
       "    <tr>\n",
       "      <th>1306</th>\n",
       "      <td>1307</td>\n",
       "      <td>16</td>\n",
       "      <td>5546</td>\n",
       "    </tr>\n",
       "    <tr>\n",
       "      <th>1307</th>\n",
       "      <td>1308</td>\n",
       "      <td>0</td>\n",
       "      <td>5546</td>\n",
       "    </tr>\n",
       "    <tr>\n",
       "      <th>1308</th>\n",
       "      <td>1309</td>\n",
       "      <td>0</td>\n",
       "      <td>5546</td>\n",
       "    </tr>\n",
       "    <tr>\n",
       "      <th>1309</th>\n",
       "      <td>1310</td>\n",
       "      <td>0</td>\n",
       "      <td>5546</td>\n",
       "    </tr>\n",
       "    <tr>\n",
       "      <th>1310</th>\n",
       "      <td>1311</td>\n",
       "      <td>1</td>\n",
       "      <td>5547</td>\n",
       "    </tr>\n",
       "    <tr>\n",
       "      <th>1311</th>\n",
       "      <td>1312</td>\n",
       "      <td>6</td>\n",
       "      <td>5553</td>\n",
       "    </tr>\n",
       "    <tr>\n",
       "      <th>1312</th>\n",
       "      <td>1313</td>\n",
       "      <td>11</td>\n",
       "      <td>5564</td>\n",
       "    </tr>\n",
       "    <tr>\n",
       "      <th>1313</th>\n",
       "      <td>1314</td>\n",
       "      <td>3</td>\n",
       "      <td>5567</td>\n",
       "    </tr>\n",
       "    <tr>\n",
       "      <th>1314</th>\n",
       "      <td>1315</td>\n",
       "      <td>3</td>\n",
       "      <td>5570</td>\n",
       "    </tr>\n",
       "    <tr>\n",
       "      <th>1315</th>\n",
       "      <td>1316</td>\n",
       "      <td>0</td>\n",
       "      <td>5570</td>\n",
       "    </tr>\n",
       "    <tr>\n",
       "      <th>1316</th>\n",
       "      <td>1317</td>\n",
       "      <td>0</td>\n",
       "      <td>5570</td>\n",
       "    </tr>\n",
       "    <tr>\n",
       "      <th>1317</th>\n",
       "      <td>1318</td>\n",
       "      <td>1</td>\n",
       "      <td>5571</td>\n",
       "    </tr>\n",
       "    <tr>\n",
       "      <th>1318</th>\n",
       "      <td>1319</td>\n",
       "      <td>1</td>\n",
       "      <td>5572</td>\n",
       "    </tr>\n",
       "    <tr>\n",
       "      <th>1319</th>\n",
       "      <td>1320</td>\n",
       "      <td>5</td>\n",
       "      <td>5577</td>\n",
       "    </tr>\n",
       "    <tr>\n",
       "      <th>1320</th>\n",
       "      <td>1321</td>\n",
       "      <td>4</td>\n",
       "      <td>5581</td>\n",
       "    </tr>\n",
       "    <tr>\n",
       "      <th>1321</th>\n",
       "      <td>1322</td>\n",
       "      <td>4</td>\n",
       "      <td>5585</td>\n",
       "    </tr>\n",
       "    <tr>\n",
       "      <th>1322</th>\n",
       "      <td>1323</td>\n",
       "      <td>0</td>\n",
       "      <td>5585</td>\n",
       "    </tr>\n",
       "    <tr>\n",
       "      <th>1323</th>\n",
       "      <td>1324</td>\n",
       "      <td>0</td>\n",
       "      <td>5585</td>\n",
       "    </tr>\n",
       "    <tr>\n",
       "      <th>1324</th>\n",
       "      <td>1325</td>\n",
       "      <td>1</td>\n",
       "      <td>5586</td>\n",
       "    </tr>\n",
       "    <tr>\n",
       "      <th>1325</th>\n",
       "      <td>1326</td>\n",
       "      <td>3</td>\n",
       "      <td>5589</td>\n",
       "    </tr>\n",
       "    <tr>\n",
       "      <th>1326</th>\n",
       "      <td>1327</td>\n",
       "      <td>1</td>\n",
       "      <td>5590</td>\n",
       "    </tr>\n",
       "  </tbody>\n",
       "</table>\n",
       "<p>1327 rows × 3 columns</p>\n",
       "</div>"
      ],
      "text/plain": [
       "       day  bugsPerDay  cummBugs\n",
       "0        1           0         0\n",
       "1        2           1         1\n",
       "2        3           0         1\n",
       "3        4           2         3\n",
       "4        5           1         4\n",
       "5        6           0         4\n",
       "6        7           0         4\n",
       "7        8           0         4\n",
       "8        9           0         4\n",
       "9       10           0         4\n",
       "10      11           0         4\n",
       "11      12           0         4\n",
       "12      13           3         7\n",
       "13      14           1         8\n",
       "14      15           2        10\n",
       "15      16           0        10\n",
       "16      17           0        10\n",
       "17      18           0        10\n",
       "18      19           0        10\n",
       "19      20           0        10\n",
       "20      21           0        10\n",
       "21      22           2        12\n",
       "22      23           0        12\n",
       "23      24           0        12\n",
       "24      25           0        12\n",
       "25      26           0        12\n",
       "26      27           0        12\n",
       "27      28           1        13\n",
       "28      29           0        13\n",
       "29      30           0        13\n",
       "...    ...         ...       ...\n",
       "1297  1298           2      5521\n",
       "1298  1299           3      5524\n",
       "1299  1300           0      5524\n",
       "1300  1301           1      5525\n",
       "1301  1302           0      5525\n",
       "1302  1303           0      5525\n",
       "1303  1304           3      5528\n",
       "1304  1305           1      5529\n",
       "1305  1306           1      5530\n",
       "1306  1307          16      5546\n",
       "1307  1308           0      5546\n",
       "1308  1309           0      5546\n",
       "1309  1310           0      5546\n",
       "1310  1311           1      5547\n",
       "1311  1312           6      5553\n",
       "1312  1313          11      5564\n",
       "1313  1314           3      5567\n",
       "1314  1315           3      5570\n",
       "1315  1316           0      5570\n",
       "1316  1317           0      5570\n",
       "1317  1318           1      5571\n",
       "1318  1319           1      5572\n",
       "1319  1320           5      5577\n",
       "1320  1321           4      5581\n",
       "1321  1322           4      5585\n",
       "1322  1323           0      5585\n",
       "1323  1324           0      5585\n",
       "1324  1325           1      5586\n",
       "1325  1326           3      5589\n",
       "1326  1327           1      5590\n",
       "\n",
       "[1327 rows x 3 columns]"
      ]
     },
     "execution_count": 66,
     "metadata": {},
     "output_type": "execute_result"
    }
   ],
   "source": [
    "data2"
   ]
  },
  {
   "cell_type": "code",
   "execution_count": 67,
   "metadata": {},
   "outputs": [
    {
     "data": {
      "text/html": [
       "<div>\n",
       "<style>\n",
       "    .dataframe thead tr:only-child th {\n",
       "        text-align: right;\n",
       "    }\n",
       "\n",
       "    .dataframe thead th {\n",
       "        text-align: left;\n",
       "    }\n",
       "\n",
       "    .dataframe tbody tr th {\n",
       "        vertical-align: top;\n",
       "    }\n",
       "</style>\n",
       "<table border=\"1\" class=\"dataframe\">\n",
       "  <thead>\n",
       "    <tr style=\"text-align: right;\">\n",
       "      <th></th>\n",
       "      <th>day</th>\n",
       "      <th>bugsPerDay</th>\n",
       "      <th>cummBugs</th>\n",
       "    </tr>\n",
       "  </thead>\n",
       "  <tbody>\n",
       "    <tr>\n",
       "      <th>0</th>\n",
       "      <td>1</td>\n",
       "      <td>0</td>\n",
       "      <td>0</td>\n",
       "    </tr>\n",
       "    <tr>\n",
       "      <th>1</th>\n",
       "      <td>2</td>\n",
       "      <td>1</td>\n",
       "      <td>1</td>\n",
       "    </tr>\n",
       "    <tr>\n",
       "      <th>2</th>\n",
       "      <td>3</td>\n",
       "      <td>0</td>\n",
       "      <td>1</td>\n",
       "    </tr>\n",
       "    <tr>\n",
       "      <th>3</th>\n",
       "      <td>4</td>\n",
       "      <td>2</td>\n",
       "      <td>3</td>\n",
       "    </tr>\n",
       "    <tr>\n",
       "      <th>4</th>\n",
       "      <td>5</td>\n",
       "      <td>1</td>\n",
       "      <td>4</td>\n",
       "    </tr>\n",
       "  </tbody>\n",
       "</table>\n",
       "</div>"
      ],
      "text/plain": [
       "   day  bugsPerDay  cummBugs\n",
       "0    1           0         0\n",
       "1    2           1         1\n",
       "2    3           0         1\n",
       "3    4           2         3\n",
       "4    5           1         4"
      ]
     },
     "execution_count": 67,
     "metadata": {},
     "output_type": "execute_result"
    }
   ],
   "source": [
    "data2.head()"
   ]
  },
  {
   "cell_type": "code",
   "execution_count": 68,
   "metadata": {},
   "outputs": [
    {
     "data": {
      "text/html": [
       "<div>\n",
       "<style>\n",
       "    .dataframe thead tr:only-child th {\n",
       "        text-align: right;\n",
       "    }\n",
       "\n",
       "    .dataframe thead th {\n",
       "        text-align: left;\n",
       "    }\n",
       "\n",
       "    .dataframe tbody tr th {\n",
       "        vertical-align: top;\n",
       "    }\n",
       "</style>\n",
       "<table border=\"1\" class=\"dataframe\">\n",
       "  <thead>\n",
       "    <tr style=\"text-align: right;\">\n",
       "      <th></th>\n",
       "      <th>day</th>\n",
       "      <th>bugsPerDay</th>\n",
       "      <th>cummBugs</th>\n",
       "    </tr>\n",
       "  </thead>\n",
       "  <tbody>\n",
       "    <tr>\n",
       "      <th>count</th>\n",
       "      <td>1327.000000</td>\n",
       "      <td>1327.000000</td>\n",
       "      <td>1327.000000</td>\n",
       "    </tr>\n",
       "    <tr>\n",
       "      <th>mean</th>\n",
       "      <td>664.000000</td>\n",
       "      <td>4.212509</td>\n",
       "      <td>2894.581763</td>\n",
       "    </tr>\n",
       "    <tr>\n",
       "      <th>std</th>\n",
       "      <td>383.216214</td>\n",
       "      <td>8.803797</td>\n",
       "      <td>2013.662007</td>\n",
       "    </tr>\n",
       "    <tr>\n",
       "      <th>min</th>\n",
       "      <td>1.000000</td>\n",
       "      <td>0.000000</td>\n",
       "      <td>0.000000</td>\n",
       "    </tr>\n",
       "    <tr>\n",
       "      <th>25%</th>\n",
       "      <td>332.500000</td>\n",
       "      <td>0.000000</td>\n",
       "      <td>765.000000</td>\n",
       "    </tr>\n",
       "    <tr>\n",
       "      <th>50%</th>\n",
       "      <td>664.000000</td>\n",
       "      <td>2.000000</td>\n",
       "      <td>3186.000000</td>\n",
       "    </tr>\n",
       "    <tr>\n",
       "      <th>75%</th>\n",
       "      <td>995.500000</td>\n",
       "      <td>6.000000</td>\n",
       "      <td>4994.500000</td>\n",
       "    </tr>\n",
       "    <tr>\n",
       "      <th>max</th>\n",
       "      <td>1327.000000</td>\n",
       "      <td>224.000000</td>\n",
       "      <td>5590.000000</td>\n",
       "    </tr>\n",
       "  </tbody>\n",
       "</table>\n",
       "</div>"
      ],
      "text/plain": [
       "               day   bugsPerDay     cummBugs\n",
       "count  1327.000000  1327.000000  1327.000000\n",
       "mean    664.000000     4.212509  2894.581763\n",
       "std     383.216214     8.803797  2013.662007\n",
       "min       1.000000     0.000000     0.000000\n",
       "25%     332.500000     0.000000   765.000000\n",
       "50%     664.000000     2.000000  3186.000000\n",
       "75%     995.500000     6.000000  4994.500000\n",
       "max    1327.000000   224.000000  5590.000000"
      ]
     },
     "execution_count": 68,
     "metadata": {},
     "output_type": "execute_result"
    }
   ],
   "source": [
    "data2.describe()"
   ]
  },
  {
   "cell_type": "code",
   "execution_count": 69,
   "metadata": {},
   "outputs": [
    {
     "data": {
      "image/png": "[encoded data removed]",
      "text/plain": [
       "<matplotlib.figure.Figure at 0x1a1c69e310>"
      ]
     },
     "metadata": {},
     "output_type": "display_data"
    }
   ],
   "source": [
    "plt.plot(data2['cummBugs'])\n",
    "plt.show()"
   ]
  },
  {
   "cell_type": "code",
   "execution_count": null,
   "metadata": {
    "collapsed": true
   },
   "outputs": [],
   "source": []
  },
  {
   "cell_type": "code",
   "execution_count": 70,
   "metadata": {
    "collapsed": true
   },
   "outputs": [],
   "source": []
  },
  {
   "cell_type": "code",
   "execution_count": 90,
   "metadata": {
    "collapsed": true
   },
   "outputs": [],
   "source": [
    "x = np.array(data2.day)\n",
    "y = np.array(data2.cummBugs)"
   ]
  },
  {
   "cell_type": "code",
   "execution_count": 98,
   "metadata": {},
   "outputs": [],
   "source": [
    "def predict(a,b,x):\n",
    "    return a * (1 - (1 + b * x) * np.exp(-b * x))"
   ]
  },
  {
   "cell_type": "code",
   "execution_count": 99,
   "metadata": {},
   "outputs": [],
   "source": [
    "def estimate(X, Y):\n",
    "    def loss(ds):\n",
    "        return np.mean((predict(ds[0],ds[1], X) - Y) ** 2)\n",
    "    return minimize(loss,  [5000., 0.001], tol=1e-25).x"
   ]
  },
  {
   "cell_type": "code",
   "execution_count": 100,
   "metadata": {},
   "outputs": [
    {
     "name": "stdout",
     "output_type": "stream",
     "text": [
      "[  8.54124017e+03   1.85849254e-03]\n"
     ]
    }
   ],
   "source": [
    "ds = estimate(x,y)\n",
    "print ds"
   ]
  },
  {
   "cell_type": "code",
   "execution_count": 101,
   "metadata": {},
   "outputs": [
    {
     "data": {
      "image/png": "[encoded data removed]",
      "text/plain": [
       "<matplotlib.figure.Figure at 0x1a1c89d990>"
      ]
     },
     "metadata": {},
     "output_type": "display_data"
    }
   ],
   "source": [
    "plt.plot(predict(ds[0], ds[1], x))\n",
    "plt.plot(y)\n",
    "plt.show()"
   ]
  },
  {
   "cell_type": "markdown",
   "metadata": {},
   "source": [
    "# Bootstrap Estimations:"
   ]
  },
  {
   "cell_type": "code",
   "execution_count": 105,
   "metadata": {},
   "outputs": [
    {
     "name": "stderr",
     "output_type": "stream",
     "text": [
      " 73%|███████▎  | 729/1000 [00:27<00:10, 26.81it/s]/anaconda2/lib/python2.7/site-packages/scipy/optimize/optimize.py:964: RuntimeWarning: divide by zero encountered in double_scalars\n",
      "  rhok = 1.0 / (numpy.dot(yk, sk))\n",
      "100%|██████████| 1000/1000 [00:36<00:00, 27.24it/s]\n"
     ]
    }
   ],
   "source": [
    "exp_len = 900\n",
    "B = 1000\n",
    "bs_ds = []\n",
    "for _ in tqdm(range(B)):\n",
    "    samp_len = np.random.geometric(1.0/(exp_len + 1.0))\n",
    "    if samp_len >= len(data2):\n",
    "        samp_len = len(data2) - 1\n",
    "    start_ind = np.random.randint(0, len(data2) - samp_len)\n",
    "    samp_ind = np.array(range(start_ind, start_ind + samp_len))\n",
    "    x_bs = x[samp_ind]\n",
    "    y_bs = y[samp_ind]\n",
    "    bs_ds.append(estimate(x_bs,y_bs))\n",
    "bs_ds = np.array(bs_ds)"
   ]
  },
  {
   "cell_type": "code",
   "execution_count": 106,
   "metadata": {
    "collapsed": true
   },
   "outputs": [],
   "source": [
    "deltas = ds - bs_ds\n",
    "deltas_l = np.percentile(deltas, 2.5,axis = 0)\n",
    "deltas_r = np.percentile(deltas, 97.5,axis = 0)\n",
    "l_bound = ds - deltas_r\n",
    "r_bound = ds - deltas_l"
   ]
  },
  {
   "cell_type": "code",
   "execution_count": 107,
   "metadata": {},
   "outputs": [
    {
     "data": {
      "text/html": [
       "<div>\n",
       "<style>\n",
       "    .dataframe thead tr:only-child th {\n",
       "        text-align: right;\n",
       "    }\n",
       "\n",
       "    .dataframe thead th {\n",
       "        text-align: left;\n",
       "    }\n",
       "\n",
       "    .dataframe tbody tr th {\n",
       "        vertical-align: top;\n",
       "    }\n",
       "</style>\n",
       "<table border=\"1\" class=\"dataframe\">\n",
       "  <thead>\n",
       "    <tr style=\"text-align: right;\">\n",
       "      <th></th>\n",
       "      <th>est</th>\n",
       "      <th>l</th>\n",
       "      <th>r</th>\n",
       "    </tr>\n",
       "  </thead>\n",
       "  <tbody>\n",
       "    <tr>\n",
       "      <th>0</th>\n",
       "      <td>8541.240171</td>\n",
       "      <td>997.769587</td>\n",
       "      <td>1.899618e+06</td>\n",
       "    </tr>\n",
       "    <tr>\n",
       "      <th>1</th>\n",
       "      <td>0.001858</td>\n",
       "      <td>0.000087</td>\n",
       "      <td>1.012131e+00</td>\n",
       "    </tr>\n",
       "  </tbody>\n",
       "</table>\n",
       "</div>"
      ],
      "text/plain": [
       "           est           l             r\n",
       "0  8541.240171  997.769587  1.899618e+06\n",
       "1     0.001858    0.000087  1.012131e+00"
      ]
     },
     "execution_count": 107,
     "metadata": {},
     "output_type": "execute_result"
    }
   ],
   "source": [
    "pd.DataFrame([{'est': ds[i],\n",
    "     'l': l_bound[i],\n",
    "     'r': r_bound[i]} for i in range(2)])"
   ]
  },
  {
   "cell_type": "code",
   "execution_count": null,
   "metadata": {
    "collapsed": true
   },
   "outputs": [],
   "source": []
  }
 ],
 "metadata": {
  "kernelspec": {
   "display_name": "Python 2",
   "language": "python",
   "name": "python2"
  },
  "language_info": {
   "codemirror_mode": {
    "name": "ipython",
    "version": 2
   },
   "file_extension": ".py",
   "mimetype": "text/x-python",
   "name": "python",
   "nbconvert_exporter": "python",
   "pygments_lexer": "ipython2",
   "version": "2.7.13"
  }
 },
 "nbformat": 4,
 "nbformat_minor": 2
}
